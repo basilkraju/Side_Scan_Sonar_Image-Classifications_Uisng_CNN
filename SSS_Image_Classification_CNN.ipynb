{
 "cells": [
  {
   "cell_type": "code",
   "execution_count": 49,
   "id": "83ecdb4e",
   "metadata": {},
   "outputs": [
    {
     "name": "stdout",
     "output_type": "stream",
     "text": [
      "Tensorflow Version: 2.9.1\n",
      "Num GPUs Available: 0\n"
     ]
    }
   ],
   "source": [
    "import tensorflow as tf\n",
    "\n",
    "print('Tensorflow Version:', tf.__version__)\n",
    "\n",
    "import os\n",
    "from tensorflow import keras\n",
    "from tensorflow.keras.models import Sequential\n",
    "from tensorflow.keras.layers import Conv2D \n",
    "from tensorflow.keras.layers import MaxPool2D\n",
    "from tensorflow.keras.layers import Flatten\n",
    "from tensorflow.keras.layers import Dropout\n",
    "from tensorflow.keras.layers import Dense\n",
    "from tensorflow.keras.layers import RandomCrop\n",
    "from tensorflow.keras.layers import RandomFlip\n",
    "import cv2\n",
    "import matplotlib.pyplot as plt\n",
    "import numpy as np\n",
    "from IPython.display import Image\n",
    "\n",
    "import os\n",
    "os.environ[\"CUDA_VISIBLE_DEVICES\"] = \"1\"\n",
    "\n",
    "\n",
    "print(\"Num GPUs Available:\", len(tf.config.list_physical_devices('GPU')))\n"
   ]
  },
  {
   "cell_type": "code",
   "execution_count": 2,
   "id": "96ceefcf",
   "metadata": {},
   "outputs": [],
   "source": [
    "data_set_training =  r'D:\\DUK College\\II SEM\\CV_DL_RL_Term_Paper\\CNN\\train'\n",
    "data_set_test =r'D:\\DUK College\\II SEM\\CV_DL_RL_Term_Paper\\CNN\\val'\n",
    "data_OP_test_path =r'D:\\DUK College\\II SEM\\CV_DL_RL_Term_Paper\\CNN\\testing'"
   ]
  },
  {
   "cell_type": "code",
   "execution_count": 4,
   "id": "edaafb0b",
   "metadata": {},
   "outputs": [
    {
     "name": "stdout",
     "output_type": "stream",
     "text": [
      "Found 6178 files belonging to 3 classes.\n"
     ]
    }
   ],
   "source": [
    "\n",
    "data_train = tf.keras.preprocessing.image_dataset_from_directory(\n",
    "   data_set_training,\n",
    "    labels ='inferred',\n",
    "    label_mode='int',\n",
    "    class_names=['1-airplane','2-ship','3-other'],\n",
    "    color_mode =\"grayscale\",\n",
    "    batch_size = 32,\n",
    "    shuffle = True,\n",
    "    seed = 123)"
   ]
  },
  {
   "cell_type": "code",
   "execution_count": 5,
   "id": "807e7871",
   "metadata": {},
   "outputs": [
    {
     "name": "stdout",
     "output_type": "stream",
     "text": [
      "Found 2646 files belonging to 3 classes.\n"
     ]
    }
   ],
   "source": [
    "\n",
    "data_validation = tf.keras.preprocessing.image_dataset_from_directory(\n",
    "   data_set_test,\n",
    "    labels ='inferred',\n",
    "    label_mode='int',\n",
    "    class_names=['1-airplane','2-ship','3-other'],\n",
    "    color_mode =\"grayscale\",\n",
    "    batch_size = 32,\n",
    "    shuffle = True,\n",
    "    seed = 123)"
   ]
  },
  {
   "cell_type": "code",
   "execution_count": 6,
   "id": "ae349bc5",
   "metadata": {},
   "outputs": [
    {
     "name": "stdout",
     "output_type": "stream",
     "text": [
      "Found 2 files belonging to 1 classes.\n"
     ]
    }
   ],
   "source": [
    "data_OP_test = tf.keras.preprocessing.image_dataset_from_directory(\n",
    "   data_OP_test_path,\n",
    "    labels= None,\n",
    "    label_mode= None,\n",
    "    class_names=None,\n",
    "    color_mode =\"grayscale\",\n",
    "    batch_size = None,\n",
    "    shuffle = False,\n",
    "    seed = None)"
   ]
  },
  {
   "cell_type": "code",
   "execution_count": 21,
   "id": "5a054383",
   "metadata": {},
   "outputs": [
    {
     "name": "stdout",
     "output_type": "stream",
     "text": [
      "<MapDataset element_spec=(TensorSpec(shape=(None, 244, 244, 1), dtype=tf.float32, name=None), TensorSpec(shape=(None,), dtype=tf.int32, name=None))>\n",
      "<MapDataset element_spec=(TensorSpec(shape=(None, 244, 244, 1), dtype=tf.float32, name=None), TensorSpec(shape=(None,), dtype=tf.int32, name=None))>\n"
     ]
    }
   ],
   "source": [
    "data_augmentation = Sequential([\n",
    "    \n",
    "  tf.keras.layers.Resizing(244, 244),\n",
    "  tf.keras.layers.Rescaling(1./255),\n",
    "\n",
    "  tf.keras.layers.RandomFlip(\"horizontal_and_vertical\"),\n",
    "  tf.keras.layers.RandomRotation(0.2)\n",
    "])\n",
    "pross_train_data = data_train.map(lambda x, y: (data_augmentation(x), y))\n",
    "pross_test_data = data_validation.map(lambda x, y: (data_augmentation(x), y))\n",
    "print(pross_train_data)\n",
    "print(pross_test_data)"
   ]
  },
  {
   "cell_type": "code",
   "execution_count": 8,
   "id": "e2b1c649",
   "metadata": {},
   "outputs": [
    {
     "name": "stdout",
     "output_type": "stream",
     "text": [
      "Epoch 1/5\n",
      "194/194 [==============================] - 123s 629ms/step - loss: 1.1289 - accuracy: 0.5173 - val_loss: 0.9479 - val_accuracy: 0.5714\n",
      "Epoch 2/5\n",
      "194/194 [==============================] - 115s 595ms/step - loss: 0.9363 - accuracy: 0.5843 - val_loss: 0.9246 - val_accuracy: 0.5884\n",
      "Epoch 3/5\n",
      "194/194 [==============================] - 116s 596ms/step - loss: 0.8975 - accuracy: 0.6118 - val_loss: 0.8913 - val_accuracy: 0.6039\n",
      "Epoch 4/5\n",
      "194/194 [==============================] - 114s 588ms/step - loss: 0.8560 - accuracy: 0.6421 - val_loss: 0.8750 - val_accuracy: 0.6451\n",
      "Epoch 5/5\n",
      "194/194 [==============================] - 117s 602ms/step - loss: 0.8250 - accuracy: 0.6458 - val_loss: 0.8479 - val_accuracy: 0.6327\n"
     ]
    }
   ],
   "source": [
    "model = Sequential()\n",
    "model.add(Conv2D(24,(4,4),activation ='relu',input_shape=(244,244,1)))\n",
    "model.add(MaxPool2D(4,4))\n",
    "model.add(Flatten())\n",
    "model.add(Dense(120,activation='relu'))\n",
    "model.add(Dense(3))\n",
    "model.compile(optimizer = keras.optimizers.Adam(),\n",
    "loss =[keras.losses.SparseCategoricalCrossentropy(from_logits=True)],\n",
    "metrics=[\"accuracy\"])\n",
    "hist = model.fit(pross_train_data, validation_data=pross_test_data, epochs=5,)\n"
   ]
  },
  {
   "cell_type": "code",
   "execution_count": 9,
   "id": "d241e4b9",
   "metadata": {},
   "outputs": [
    {
     "data": {
      "image/png": "[encoded data removed]",
      "text/plain": [
       "<Figure size 432x288 with 1 Axes>"
      ]
     },
     "metadata": {
      "needs_background": "light"
     },
     "output_type": "display_data"
    }
   ],
   "source": [
    "#plt.plot(hist.history['loss'])\n",
    "plt.plot(hist.history['accuracy'])\n",
    "plt.ylabel('accuracy')\n",
    "plt.xlabel('epoch')\n",
    "plt.legend('train',loc='upper left')\n",
    "plt.show()"
   ]
  },
  {
   "cell_type": "code",
   "execution_count": 10,
   "id": "764163c8",
   "metadata": {},
   "outputs": [
    {
     "data": {
      "text/plain": [
       "<matplotlib.legend.Legend at 0x176ec45dac0>"
      ]
     },
     "execution_count": 10,
     "metadata": {},
     "output_type": "execute_result"
    },
    {
     "data": {
      "image/png": "[encoded data removed]",
      "text/plain": [
       "<Figure size 432x288 with 1 Axes>"
      ]
     },
     "metadata": {
      "needs_background": "light"
     },
     "output_type": "display_data"
    }
   ],
   "source": [
    "plt.plot(hist.history['loss'])\n",
    "plt.ylabel('loss')\n",
    "plt.xlabel('epoch')\n",
    "plt.legend('train',loc='upper left')"
   ]
  },
  {
   "cell_type": "code",
   "execution_count": 22,
   "id": "c6b02f3a",
   "metadata": {
    "scrolled": true
   },
   "outputs": [
    {
     "name": "stdout",
     "output_type": "stream",
     "text": [
      "<MapDataset element_spec=TensorSpec(shape=(244, 244, 1), dtype=tf.float32, name=None)>\n"
     ]
    }
   ],
   "source": [
    "data_augmentationn = Sequential([\n",
    "  tf.keras.layers.Resizing(244, 244),\n",
    "  tf.keras.layers.Rescaling(1./255),\n",
    "])\n",
    "\n",
    "pross_OP_testing_data = data_OP_test.map(lambda x: (data_augmentationn(x)))\n",
    "\n",
    "print(pross_OP_testing_data)"
   ]
  },
  {
   "cell_type": "code",
   "execution_count": 73,
   "id": "72a4df18",
   "metadata": {},
   "outputs": [
    {
     "name": "stdout",
     "output_type": "stream",
     "text": [
      "(244, 244, 1)\n"
     ]
    }
   ],
   "source": [
    "test_img =r'D:\\DUK College\\II SEM\\CV_DL_RL_Term_Paper\\upload\\upload\\2-Style_transfer\\000-Data\\test\\color\\1-airplane\\plane30.jpg'\n",
    "imagee = cv2.imread(test_img)\n",
    "tst_image =cv2.imread(test_img,cv2.IMREAD_GRAYSCALE)\n",
    "tst_image=cv2.resize(tst_image,(244,244))\n",
    "tst_image = tst_image/255\n",
    "tst_image = tst_image[...,tf.newaxis]\n",
    "print(tst_image.shape)\n"
   ]
  },
  {
   "cell_type": "code",
   "execution_count": 74,
   "id": "04eb6575",
   "metadata": {},
   "outputs": [
    {
     "name": "stdout",
     "output_type": "stream",
     "text": [
      "(1, 244, 244, 1)\n",
      "1/1 [==============================] - 0s 30ms/step\n",
      "[[1.3802019  0.63162225 0.56840914]]\n"
     ]
    }
   ],
   "source": [
    "tst_image_inp = np.array([tst_image])\n",
    "print(tst_image_inp.shape)\n",
    "my_prediction = model.predict(tst_image_inp)\n",
    "my_prediction.shape\n",
    "print(my_prediction)"
   ]
  },
  {
   "cell_type": "code",
   "execution_count": 82,
   "id": "0b0be601",
   "metadata": {},
   "outputs": [
    {
     "name": "stdout",
     "output_type": "stream",
     "text": [
      "The image belongs to  1-airplane Class\n",
      "Image used for prediction below\n"
     ]
    },
    {
     "data": {
      "image/jpeg": "[encoded data removed]",
      "text/plain": [
       "<IPython.core.display.Image object>"
      ]
     },
     "execution_count": 82,
     "metadata": {},
     "output_type": "execute_result"
    }
   ],
   "source": [
    "print(\"The image belongs to \",data_validation.class_names[np.argmax(my_prediction)],\"Class\")\n",
    "print(\"Image used for prediction below\")\n",
    "Image(filename= test_img)"
   ]
  },
  {
   "cell_type": "code",
   "execution_count": null,
   "id": "fa4c9398",
   "metadata": {},
   "outputs": [],
   "source": []
  }
 ],
 "metadata": {
  "kernelspec": {
   "display_name": "Python 3",
   "language": "python",
   "name": "python3"
  },
  "language_info": {
   "codemirror_mode": {
    "name": "ipython",
    "version": 3
   },
   "file_extension": ".py",
   "mimetype": "text/x-python",
   "name": "python",
   "nbconvert_exporter": "python",
   "pygments_lexer": "ipython3",
   "version": "3.10.9 (tags/v3.10.9:1dd9be6, Dec  6 2022, 20:01:21) [MSC v.1934 64 bit (AMD64)]"
  },
  "vscode": {
   "interpreter": {
    "hash": "29a82d12d14dcb997693ed4527530de1a8a184a05e45a53f34d76fe516b426d9"
   }
  }
 },
 "nbformat": 4,
 "nbformat_minor": 5
}
